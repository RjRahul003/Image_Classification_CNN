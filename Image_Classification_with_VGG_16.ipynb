{
 "cells": [
  {
   "cell_type": "markdown",
   "metadata": {
    "colab_type": "text",
    "id": "STl48sG9pcqr"
   },
   "source": [
    "**Objective:-**\n",
    " \n",
    "\n",
    "*   Find the best model to classify the image dataset according to their types of sleeves .\n",
    "\n",
    "**Note :- **\n",
    "* We have divided our image dataset into train( 1482 images ) and test( 520 images ).\n",
    "\n",
    "* We have resized all the images to (224 , 224) as it has no major effect on our model .\n",
    "\n",
    "* We have augumented all the images during training inorder to improve our results .\n",
    "\n",
    "* We will go over the following options:\n",
    "\n",
    "      1) using the bottleneck features of a pre-trained VGG16 network\n",
    "    \n",
    "      2) fine-tuning the top layers of a pre-trained network .\n"
   ]
  },
  {
   "cell_type": "code",
   "execution_count": 0,
   "metadata": {
    "colab": {},
    "colab_type": "code",
    "id": "c5P7t-UkXMHe"
   },
   "outputs": [],
   "source": [
    "import os\n",
    "import numpy as np\n",
    "from keras.models import Sequential\n",
    "from keras.layers import Activation, Dropout, Flatten, Dense\n",
    "from keras.preprocessing.image import ImageDataGenerator\n",
    "from keras.layers import Convolution2D, MaxPooling2D, ZeroPadding2D\n",
    "from keras import optimizers\n",
    "from keras import applications\n",
    "from keras.models import Model\n",
    "import math\n",
    "import matplotlib.pyplot as plt\n",
    "from keras.utils import np_utils\n",
    "from prettytable import PrettyTable\n",
    "from keras.preprocessing.image import ImageDataGenerator, array_to_img, img_to_array, load_img\n"
   ]
  },
  {
   "cell_type": "markdown",
   "metadata": {
    "colab_type": "text",
    "id": "MN_RPa9SrhHQ"
   },
   "source": [
    "Setting the directories of our dataset"
   ]
  },
  {
   "cell_type": "code",
   "execution_count": 0,
   "metadata": {
    "colab": {},
    "colab_type": "code",
    "id": "rhH2f8CXZJRU"
   },
   "outputs": [],
   "source": [
    "img_width, img_height = 224 , 224\n",
    "train_data_dir = 'train'\n",
    "validation_data_dir = 'validation'"
   ]
  },
  {
   "cell_type": "code",
   "execution_count": 0,
   "metadata": {
    "colab": {},
    "colab_type": "code",
    "id": "29T6MxVNZJOu"
   },
   "outputs": [],
   "source": [
    "def fcount(path):    \n",
    "    listOfclasses = [name for name in os.listdir(path)] \n",
    "    return len(listOfclasses),listOfclasses"
   ]
  },
  {
   "cell_type": "code",
   "execution_count": 0,
   "metadata": {
    "colab": {},
    "colab_type": "code",
    "id": "dyqIYWQMZJMJ"
   },
   "outputs": [],
   "source": [
    "def gcd(a, b):\n",
    "    if(a<b):\n",
    "        a,b=b,a\n",
    "    while(b!=0):\n",
    "        r=b\n",
    "        b=a%r\n",
    "        a=r\n",
    "    return a"
   ]
  },
  {
   "cell_type": "code",
   "execution_count": 0,
   "metadata": {
    "colab": {},
    "colab_type": "code",
    "id": "lJQnxwVpZJJd"
   },
   "outputs": [],
   "source": [
    "train_labels,nameOfClasses = fcount(\"train/\")\n",
    "validation_labels,nameOfClasses= fcount(\"validation/\")\n",
    "nameOfClasses.sort()\n"
   ]
  },
  {
   "cell_type": "markdown",
   "metadata": {
    "colab_type": "text",
    "id": "BQy185I0rtCM"
   },
   "source": [
    "Getting number of training and validation lables ."
   ]
  },
  {
   "cell_type": "code",
   "execution_count": 12,
   "metadata": {
    "colab": {
     "base_uri": "https://localhost:8080/",
     "height": 34
    },
    "colab_type": "code",
    "id": "Sy1lo2v3ZJGO",
    "outputId": "d0bf9db1-3d05-4ca1-a7c1-ebb9bea0fa4a"
   },
   "outputs": [
    {
     "data": {
      "text/plain": [
       "(13, 13)"
      ]
     },
     "execution_count": 12,
     "metadata": {
      "tags": []
     },
     "output_type": "execute_result"
    }
   ],
   "source": [
    "train_labels,validation_labels"
   ]
  },
  {
   "cell_type": "code",
   "execution_count": 13,
   "metadata": {
    "colab": {
     "base_uri": "https://localhost:8080/",
     "height": 74
    },
    "colab_type": "code",
    "id": "sqKFHrSwZJDv",
    "outputId": "dda6b282-f2ad-4cac-e342-2e0ecf9c10b4"
   },
   "outputs": [
    {
     "name": "stdout",
     "output_type": "stream",
     "text": [
      "['34_sleeve', 'angel_sleeve', 'bell_sleeve', 'bishop_sleeve', 'butterfly_sleeve', 'cap_sleeve', 'cape_sleeve', 'cold-shoulder', 'kimono_sleeve', 'long_sleeve', 'puff_sleeve', 'short_sleeve', 'sleeveless']\n"
     ]
    }
   ],
   "source": [
    "print(nameOfClasses)"
   ]
  },
  {
   "cell_type": "markdown",
   "metadata": {
    "colab_type": "text",
    "id": "hP9rHBNBr5pQ"
   },
   "source": [
    "Preparing the dataset for pre-processing .\n",
    "Data Augumentation is also being done on train data ."
   ]
  },
  {
   "cell_type": "code",
   "execution_count": 0,
   "metadata": {
    "colab": {},
    "colab_type": "code",
    "id": "CVs2aCHMZJBM"
   },
   "outputs": [],
   "source": [
    "train_datagen = ImageDataGenerator(rescale=1./255,shear_range=0.2,\n",
    "        zoom_range=0.2,\n",
    "        horizontal_flip=True)\n",
    "test_datagen = ImageDataGenerator(rescale=1./255)\n",
    "batch_size = gcd(train_labels*114,validation_labels*40)"
   ]
  },
  {
   "cell_type": "code",
   "execution_count": 15,
   "metadata": {
    "colab": {
     "base_uri": "https://localhost:8080/",
     "height": 51
    },
    "colab_type": "code",
    "id": "emlWdfzAZI9u",
    "outputId": "5f9f5591-9e72-4d38-b1f9-ae2795d13ceb"
   },
   "outputs": [
    {
     "name": "stdout",
     "output_type": "stream",
     "text": [
      "Found 1482 images belonging to 13 classes.\n",
      "Found 520 images belonging to 13 classes.\n"
     ]
    }
   ],
   "source": [
    "train_generator_bottleneck = train_datagen.flow_from_directory(\n",
    "        train_data_dir,\n",
    "        target_size=(img_width, img_height),\n",
    "        batch_size=batch_size,\n",
    "        class_mode='categorical',\n",
    "        shuffle=False)\n",
    "\n",
    "validation_generator_bottleneck = test_datagen.flow_from_directory(\n",
    "        validation_data_dir,\n",
    "        target_size=(img_width, img_height),\n",
    "        batch_size=batch_size,\n",
    "        class_mode='categorical',\n",
    "        shuffle=False)"
   ]
  },
  {
   "cell_type": "markdown",
   "metadata": {
    "colab_type": "text",
    "id": "uLdSXXFyr-0l"
   },
   "source": [
    "Setting the number of Epochs to run and finding the number of Training and Validation samples"
   ]
  },
  {
   "cell_type": "code",
   "execution_count": 0,
   "metadata": {
    "colab": {},
    "colab_type": "code",
    "id": "Le0tBHlaZI7U"
   },
   "outputs": [],
   "source": [
    "epochs = 25\n",
    "train_samples = train_labels*114\n",
    "validation_samples = validation_labels*40\n"
   ]
  },
  {
   "cell_type": "markdown",
   "metadata": {
    "colab_type": "text",
    "id": "k8DJZr7Fscqt"
   },
   "source": [
    "# **Using the bottleneck features of a pre-trained VGG16 network**"
   ]
  },
  {
   "cell_type": "code",
   "execution_count": 17,
   "metadata": {
    "colab": {
     "base_uri": "https://localhost:8080/",
     "height": 128
    },
    "colab_type": "code",
    "id": "Iwp882cBZI44",
    "outputId": "69fb8ab3-d949-45fc-cf5b-7a098899de17"
   },
   "outputs": [
    {
     "name": "stdout",
     "output_type": "stream",
     "text": [
      "WARNING:tensorflow:From /usr/local/lib/python3.6/dist-packages/tensorflow/python/framework/op_def_library.py:263: colocate_with (from tensorflow.python.framework.ops) is deprecated and will be removed in a future version.\n",
      "Instructions for updating:\n",
      "Colocations handled automatically by placer.\n"
     ]
    }
   ],
   "source": [
    "model_vgg = applications.VGG16(include_top=False, weights='imagenet')"
   ]
  },
  {
   "cell_type": "markdown",
   "metadata": {
    "colab_type": "text",
    "id": "egh2uLM0sgbd"
   },
   "source": [
    "We will save the weights of both training and validation weights and then load back to increase the time efficiency"
   ]
  },
  {
   "cell_type": "code",
   "execution_count": 0,
   "metadata": {
    "colab": {},
    "colab_type": "code",
    "id": "1ygg86NzZI2e"
   },
   "outputs": [],
   "source": [
    "bottleneck_features_train = model_vgg.predict_generator(train_generator_bottleneck, train_samples // batch_size)\n",
    "np.save('bottleneck_features_train.npy', bottleneck_features_train)"
   ]
  },
  {
   "cell_type": "code",
   "execution_count": 0,
   "metadata": {
    "colab": {},
    "colab_type": "code",
    "id": "l-qEEJ6EZIzT"
   },
   "outputs": [],
   "source": [
    "bottleneck_features_validation = model_vgg.predict_generator(validation_generator_bottleneck, validation_samples // batch_size)\n",
    "np.save('bottleneck_features_validation.npy', bottleneck_features_validation)\n"
   ]
  },
  {
   "cell_type": "markdown",
   "metadata": {
    "colab_type": "text",
    "id": "9Gyswxp7s8WS"
   },
   "source": [
    "Creating lables for our training and validation samples"
   ]
  },
  {
   "cell_type": "code",
   "execution_count": 0,
   "metadata": {
    "colab": {},
    "colab_type": "code",
    "id": "Dc-Ve4eKZIw6"
   },
   "outputs": [],
   "source": [
    "train_data = np.load(open('bottleneck_features_train.npy', 'rb'))\n",
    "b = []\n",
    "for x in range(len(nameOfClasses)):\n",
    "    for y in range(1,115):\n",
    "        b.append(x)\n",
    "train_labels = np.asarray(b)\n",
    "\n",
    "\n",
    "validation_data = np.load(open('bottleneck_features_validation.npy', 'rb'))\n",
    "c = []\n",
    "for x in range(len(nameOfClasses)):\n",
    "    for y in range(1,41):\n",
    "        c.append(x)\n",
    "validation_labels = np.asarray(c)"
   ]
  },
  {
   "cell_type": "code",
   "execution_count": 21,
   "metadata": {
    "colab": {
     "base_uri": "https://localhost:8080/",
     "height": 34
    },
    "colab_type": "code",
    "id": "U-IRjRYGZIt6",
    "outputId": "f9bf9dc8-7de0-4b13-c3f1-bd07ef5a4f51"
   },
   "outputs": [
    {
     "data": {
      "text/plain": [
       "array([ 0,  0,  0, ..., 12, 12, 12])"
      ]
     },
     "execution_count": 21,
     "metadata": {
      "tags": []
     },
     "output_type": "execute_result"
    }
   ],
   "source": [
    "train_labels"
   ]
  },
  {
   "cell_type": "markdown",
   "metadata": {
    "colab_type": "text",
    "id": "QV1GqmV6tTdk"
   },
   "source": [
    "Convert 1-dimensional class arrays to n-dimensional class matrices (one hot vector encoding)"
   ]
  },
  {
   "cell_type": "code",
   "execution_count": 0,
   "metadata": {
    "colab": {},
    "colab_type": "code",
    "id": "GS18nIufZIri"
   },
   "outputs": [],
   "source": [
    "train_labels = np_utils.to_categorical(train_labels,len(nameOfClasses))\n",
    "validation_labels = np_utils.to_categorical(validation_labels, len(nameOfClasses))"
   ]
  },
  {
   "cell_type": "code",
   "execution_count": 23,
   "metadata": {
    "colab": {
     "base_uri": "https://localhost:8080/",
     "height": 136
    },
    "colab_type": "code",
    "id": "QKDXbPoQZIod",
    "outputId": "fa845dea-fb6e-4195-b3e7-9870fa4c0c5f"
   },
   "outputs": [
    {
     "data": {
      "text/plain": [
       "array([[1., 0., 0., ..., 0., 0., 0.],\n",
       "       [1., 0., 0., ..., 0., 0., 0.],\n",
       "       [1., 0., 0., ..., 0., 0., 0.],\n",
       "       ...,\n",
       "       [0., 0., 0., ..., 0., 0., 1.],\n",
       "       [0., 0., 0., ..., 0., 0., 1.],\n",
       "       [0., 0., 0., ..., 0., 0., 1.]], dtype=float32)"
      ]
     },
     "execution_count": 23,
     "metadata": {
      "tags": []
     },
     "output_type": "execute_result"
    }
   ],
   "source": [
    "train_labels"
   ]
  },
  {
   "cell_type": "markdown",
   "metadata": {
    "colab_type": "text",
    "id": "t70BhEp-tX7g"
   },
   "source": [
    "**Creating the model and running it**"
   ]
  },
  {
   "cell_type": "code",
   "execution_count": 24,
   "metadata": {
    "colab": {
     "base_uri": "https://localhost:8080/",
     "height": 128
    },
    "colab_type": "code",
    "id": "glKOARAEZImE",
    "outputId": "fe4f0082-2dfb-4839-8a7c-6a445151dc76"
   },
   "outputs": [
    {
     "name": "stdout",
     "output_type": "stream",
     "text": [
      "WARNING:tensorflow:From /usr/local/lib/python3.6/dist-packages/keras/backend/tensorflow_backend.py:3445: calling dropout (from tensorflow.python.ops.nn_ops) with keep_prob is deprecated and will be removed in a future version.\n",
      "Instructions for updating:\n",
      "Please use `rate` instead of `keep_prob`. Rate should be set to `rate = 1 - keep_prob`.\n"
     ]
    }
   ],
   "source": [
    "model_top = Sequential()\n",
    "model_top.add(Flatten(input_shape=train_data.shape[1:]))\n",
    "model_top.add(Dropout(0.5))\n",
    "model_top.add(Dense(256, activation='relu'))\n",
    "model_top.add(Dropout(0.5))\n",
    "model_top.add(Dense(len(nameOfClasses), activation='softmax'))\n",
    "\n",
    "model_top.compile(optimizer='rmsprop', loss='binary_crossentropy', metrics=['accuracy'])"
   ]
  },
  {
   "cell_type": "code",
   "execution_count": 25,
   "metadata": {
    "colab": {
     "base_uri": "https://localhost:8080/",
     "height": 1020
    },
    "colab_type": "code",
    "id": "gXOyCQSrZIjJ",
    "outputId": "e5be5224-39db-4bcb-b145-8932319c4432"
   },
   "outputs": [
    {
     "name": "stdout",
     "output_type": "stream",
     "text": [
      "WARNING:tensorflow:From /usr/local/lib/python3.6/dist-packages/tensorflow/python/ops/math_ops.py:3066: to_int32 (from tensorflow.python.ops.math_ops) is deprecated and will be removed in a future version.\n",
      "Instructions for updating:\n",
      "Use tf.cast instead.\n",
      "Train on 1482 samples, validate on 520 samples\n",
      "Epoch 1/25\n",
      "1482/1482 [==============================] - 1s 844us/step - loss: 0.5621 - acc: 0.9039 - val_loss: 0.2723 - val_acc: 0.9231\n",
      "Epoch 2/25\n",
      "1482/1482 [==============================] - 1s 480us/step - loss: 0.2742 - acc: 0.9231 - val_loss: 0.2700 - val_acc: 0.9231\n",
      "Epoch 3/25\n",
      "1482/1482 [==============================] - 1s 470us/step - loss: 0.2688 - acc: 0.9231 - val_loss: 0.2688 - val_acc: 0.9231\n",
      "Epoch 4/25\n",
      "1482/1482 [==============================] - 1s 538us/step - loss: 0.2654 - acc: 0.9232 - val_loss: 0.2664 - val_acc: 0.9231\n",
      "Epoch 5/25\n",
      "1482/1482 [==============================] - 1s 528us/step - loss: 0.2605 - acc: 0.9241 - val_loss: 0.2636 - val_acc: 0.9231\n",
      "Epoch 6/25\n",
      "1482/1482 [==============================] - 1s 552us/step - loss: 0.2577 - acc: 0.9239 - val_loss: 0.2608 - val_acc: 0.9231\n",
      "Epoch 7/25\n",
      "1482/1482 [==============================] - 1s 496us/step - loss: 0.2513 - acc: 0.9243 - val_loss: 0.2592 - val_acc: 0.9231\n",
      "Epoch 8/25\n",
      "1482/1482 [==============================] - 1s 472us/step - loss: 0.2496 - acc: 0.9245 - val_loss: 0.2568 - val_acc: 0.9231\n",
      "Epoch 9/25\n",
      "1482/1482 [==============================] - 1s 481us/step - loss: 0.2466 - acc: 0.9250 - val_loss: 0.2574 - val_acc: 0.9231\n",
      "Epoch 10/25\n",
      "1482/1482 [==============================] - 1s 501us/step - loss: 0.2417 - acc: 0.9252 - val_loss: 0.2547 - val_acc: 0.9234\n",
      "Epoch 11/25\n",
      "1482/1482 [==============================] - 1s 464us/step - loss: 0.2397 - acc: 0.9252 - val_loss: 0.2520 - val_acc: 0.9238\n",
      "Epoch 12/25\n",
      "1482/1482 [==============================] - 1s 460us/step - loss: 0.2313 - acc: 0.9267 - val_loss: 0.2518 - val_acc: 0.9237\n",
      "Epoch 13/25\n",
      "1482/1482 [==============================] - 1s 473us/step - loss: 0.2265 - acc: 0.9277 - val_loss: 0.2571 - val_acc: 0.9241\n",
      "Epoch 14/25\n",
      "1482/1482 [==============================] - 1s 470us/step - loss: 0.2264 - acc: 0.9270 - val_loss: 0.2481 - val_acc: 0.9243\n",
      "Epoch 15/25\n",
      "1482/1482 [==============================] - 1s 459us/step - loss: 0.2192 - acc: 0.9292 - val_loss: 0.2554 - val_acc: 0.9229\n",
      "Epoch 16/25\n",
      "1482/1482 [==============================] - 1s 472us/step - loss: 0.2193 - acc: 0.9290 - val_loss: 0.2446 - val_acc: 0.9237\n",
      "Epoch 17/25\n",
      "1482/1482 [==============================] - 1s 471us/step - loss: 0.2114 - acc: 0.9297 - val_loss: 0.2496 - val_acc: 0.9232\n",
      "Epoch 18/25\n",
      "1482/1482 [==============================] - 1s 463us/step - loss: 0.2064 - acc: 0.9313 - val_loss: 0.2509 - val_acc: 0.9232\n",
      "Epoch 19/25\n",
      "1482/1482 [==============================] - 1s 463us/step - loss: 0.2055 - acc: 0.9307 - val_loss: 0.2433 - val_acc: 0.9235\n",
      "Epoch 20/25\n",
      "1482/1482 [==============================] - 1s 467us/step - loss: 0.2074 - acc: 0.9310 - val_loss: 0.2468 - val_acc: 0.9243\n",
      "Epoch 21/25\n",
      "1482/1482 [==============================] - 1s 464us/step - loss: 0.1971 - acc: 0.9326 - val_loss: 0.2478 - val_acc: 0.9238\n",
      "Epoch 22/25\n",
      "1482/1482 [==============================] - 1s 473us/step - loss: 0.1909 - acc: 0.9348 - val_loss: 0.2598 - val_acc: 0.9217\n",
      "Epoch 23/25\n",
      "1482/1482 [==============================] - 1s 474us/step - loss: 0.1898 - acc: 0.9349 - val_loss: 0.2386 - val_acc: 0.9235\n",
      "Epoch 24/25\n",
      "1482/1482 [==============================] - 1s 467us/step - loss: 0.1882 - acc: 0.9351 - val_loss: 0.2629 - val_acc: 0.9203\n",
      "Epoch 25/25\n",
      "1482/1482 [==============================] - 1s 468us/step - loss: 0.1847 - acc: 0.9363 - val_loss: 0.2475 - val_acc: 0.9217\n"
     ]
    }
   ],
   "source": [
    "history=model_top.fit(train_data, train_labels,\n",
    "            epochs=epochs, \n",
    "            batch_size=batch_size,\n",
    "            validation_data=(validation_data, validation_labels))"
   ]
  },
  {
   "cell_type": "markdown",
   "metadata": {
    "colab_type": "text",
    "id": "wX5A0sXEuRip"
   },
   "source": [
    "**Plot **"
   ]
  },
  {
   "cell_type": "code",
   "execution_count": 26,
   "metadata": {
    "colab": {
     "base_uri": "https://localhost:8080/",
     "height": 376
    },
    "colab_type": "code",
    "id": "_8rR5KfX_KiC",
    "outputId": "be6d38bd-e2e7-49fd-ebc3-09f05e606dec"
   },
   "outputs": [
    {
     "data": {
      "image/png": "[encoded data removed]",
      "text/plain": [
       "<Figure size 576x396 with 2 Axes>"
      ]
     },
     "metadata": {
      "tags": []
     },
     "output_type": "display_data"
    }
   ],
   "source": [
    "plt.subplot(211)\n",
    "plt.plot(history.history['acc'])\n",
    "plt.plot(history.history['val_acc'])\n",
    "plt.title('model accuracy')\n",
    "plt.ylabel('accuracy')\n",
    "plt.xlabel('epoch')\n",
    "plt.legend(['train', 'test'], loc='upper left')\n",
    "\n",
    "    # summarize history for loss\n",
    "\n",
    "plt.subplot(212)\n",
    "plt.plot(history.history['loss'])\n",
    "plt.plot(history.history['val_loss'])\n",
    "plt.title('model loss')\n",
    "plt.ylabel('loss')\n",
    "plt.xlabel('epoch')\n",
    "plt.legend(['train', 'test'], loc='upper left')\n",
    "plt.show()"
   ]
  },
  {
   "cell_type": "markdown",
   "metadata": {
    "colab_type": "text",
    "id": "Yts0sXGpu04i"
   },
   "source": [
    "Saving the trained weights ."
   ]
  },
  {
   "cell_type": "code",
   "execution_count": 0,
   "metadata": {
    "colab": {},
    "colab_type": "code",
    "id": "PZO8Fi7sZIg3"
   },
   "outputs": [],
   "source": [
    "model_top.save_weights('Test_bottleneck_50_epochs.h5')"
   ]
  },
  {
   "cell_type": "markdown",
   "metadata": {
    "colab_type": "text",
    "id": "ZN0aYXjRtzFa"
   },
   "source": [
    "**Obsevations :-**\n",
    "\n",
    "*   Train Accuracy :- 0.9363 , Train Loss :- 0.1847\n",
    "*   Test Accuracy :- 0.9217 , Test Loss :- 0.2475\n",
    "\n"
   ]
  },
  {
   "cell_type": "markdown",
   "metadata": {
    "colab_type": "text",
    "id": "eXr8863tvCmK"
   },
   "source": [
    "# Fine-tuning the top layers of a a pre-trained network"
   ]
  },
  {
   "cell_type": "code",
   "execution_count": 0,
   "metadata": {
    "colab": {},
    "colab_type": "code",
    "id": "21cEFK91ZId5"
   },
   "outputs": [],
   "source": [
    "model_2 = applications.VGG16(weights='imagenet', include_top=False, input_shape=(224, 224, 3))"
   ]
  },
  {
   "cell_type": "code",
   "execution_count": 29,
   "metadata": {
    "colab": {
     "base_uri": "https://localhost:8080/",
     "height": 34
    },
    "colab_type": "code",
    "id": "nyo9TxWKZIbB",
    "outputId": "6442a622-b55c-4f34-bb1a-470af082deaa"
   },
   "outputs": [
    {
     "data": {
      "text/plain": [
       "(7, 7, 512)"
      ]
     },
     "execution_count": 29,
     "metadata": {
      "tags": []
     },
     "output_type": "execute_result"
    }
   ],
   "source": [
    "model_2.output_shape[1:]"
   ]
  },
  {
   "cell_type": "code",
   "execution_count": 0,
   "metadata": {
    "colab": {},
    "colab_type": "code",
    "id": "uXT9zZk0ZIYQ"
   },
   "outputs": [],
   "source": [
    "top_model = Sequential()\n",
    "top_model.add(Flatten(input_shape=model_2.output_shape[1:]))\n",
    "top_model.add(Dropout(0.5))\n",
    "top_model.add(Dense(256, activation='relu'))\n",
    "top_model.add(Dropout(0.5))\n",
    "top_model.add(Dense(len(nameOfClasses), activation='softmax'))\n",
    "top_model.load_weights('Test_bottleneck_50_epochs.h5')\n"
   ]
  },
  {
   "cell_type": "code",
   "execution_count": 0,
   "metadata": {
    "colab": {},
    "colab_type": "code",
    "id": "b1JF8bQKZIWE"
   },
   "outputs": [],
   "source": [
    "model = Model(inputs = model_2.input, outputs = top_model(model_2.output))"
   ]
  },
  {
   "cell_type": "markdown",
   "metadata": {
    "colab_type": "text",
    "id": "3XUCneUGvKts"
   },
   "source": [
    "Freeze all convolutional layers up to the last convolutional block"
   ]
  },
  {
   "cell_type": "code",
   "execution_count": 0,
   "metadata": {
    "colab": {},
    "colab_type": "code",
    "id": "AX7Pa6U4ZIQf"
   },
   "outputs": [],
   "source": [
    "for layer in model.layers[:15]:\n",
    "    layer.trainable = False"
   ]
  },
  {
   "cell_type": "markdown",
   "metadata": {
    "colab_type": "text",
    "id": "PeNhOXUKvPhE"
   },
   "source": [
    "compile the model with a SGD/momentum optimizer and a very slow learning rate."
   ]
  },
  {
   "cell_type": "code",
   "execution_count": 0,
   "metadata": {
    "colab": {},
    "colab_type": "code",
    "id": "Ct73JHltbzDj"
   },
   "outputs": [],
   "source": [
    "model.compile(loss='binary_crossentropy',\n",
    "              optimizer=optimizers.SGD(lr=1e-4, momentum=0.9),\n",
    "              metrics=['accuracy'])\n"
   ]
  },
  {
   "cell_type": "markdown",
   "metadata": {
    "colab_type": "text",
    "id": "LqRbet7_vZS1"
   },
   "source": [
    "Finally, we start training the whole new model with augumented train images ."
   ]
  },
  {
   "cell_type": "code",
   "execution_count": 34,
   "metadata": {
    "colab": {
     "base_uri": "https://localhost:8080/",
     "height": 51
    },
    "colab_type": "code",
    "id": "wR85YuiHbzAo",
    "outputId": "3d2e615c-3ebf-475e-cf7d-6982e6803dea"
   },
   "outputs": [
    {
     "name": "stdout",
     "output_type": "stream",
     "text": [
      "Found 1482 images belonging to 13 classes.\n",
      "Found 520 images belonging to 13 classes.\n"
     ]
    }
   ],
   "source": [
    "train_datagen = ImageDataGenerator(\n",
    "        rescale=1./255,\n",
    "        shear_range=0.2,\n",
    "        zoom_range=0.2,\n",
    "        horizontal_flip=True)\n",
    "\n",
    "test_datagen = ImageDataGenerator(rescale=1./255)\n",
    "\n",
    "train_generator = train_datagen.flow_from_directory(\n",
    "        train_data_dir,\n",
    "        target_size=(img_height, img_width),\n",
    "        batch_size=batch_size\n",
    "        )\n",
    "\n",
    "validation_generator = test_datagen.flow_from_directory(\n",
    "        validation_data_dir,\n",
    "        target_size=(img_height, img_width),\n",
    "        batch_size=batch_size\n",
    "        )"
   ]
  },
  {
   "cell_type": "markdown",
   "metadata": {
    "colab_type": "text",
    "id": "y6KjZAsywOOm"
   },
   "source": [
    "Fine-tune the model"
   ]
  },
  {
   "cell_type": "code",
   "execution_count": 35,
   "metadata": {
    "colab": {
     "base_uri": "https://localhost:8080/",
     "height": 867
    },
    "colab_type": "code",
    "id": "T4F5OQwdby9w",
    "outputId": "24107fed-d67b-4868-e857-1804b425ce91"
   },
   "outputs": [
    {
     "name": "stdout",
     "output_type": "stream",
     "text": [
      "Epoch 1/25\n",
      "57/57 [==============================] - 41s 718ms/step - loss: 0.2217 - acc: 0.9284 - val_loss: 0.2443 - val_acc: 0.9228\n",
      "Epoch 2/25\n",
      "57/57 [==============================] - 36s 638ms/step - loss: 0.2189 - acc: 0.9294 - val_loss: 0.2422 - val_acc: 0.9234\n",
      "Epoch 3/25\n",
      "57/57 [==============================] - 37s 642ms/step - loss: 0.2188 - acc: 0.9297 - val_loss: 0.2417 - val_acc: 0.9231\n",
      "Epoch 4/25\n",
      "57/57 [==============================] - 36s 634ms/step - loss: 0.2142 - acc: 0.9304 - val_loss: 0.2403 - val_acc: 0.9237\n",
      "Epoch 5/25\n",
      "57/57 [==============================] - 36s 636ms/step - loss: 0.2204 - acc: 0.9296 - val_loss: 0.2411 - val_acc: 0.9234\n",
      "Epoch 6/25\n",
      "57/57 [==============================] - 36s 636ms/step - loss: 0.2145 - acc: 0.9310 - val_loss: 0.2400 - val_acc: 0.9241\n",
      "Epoch 7/25\n",
      "57/57 [==============================] - 36s 639ms/step - loss: 0.2174 - acc: 0.9306 - val_loss: 0.2404 - val_acc: 0.9238\n",
      "Epoch 8/25\n",
      "57/57 [==============================] - 36s 638ms/step - loss: 0.2124 - acc: 0.9302 - val_loss: 0.2400 - val_acc: 0.9238\n",
      "Epoch 9/25\n",
      "57/57 [==============================] - 36s 635ms/step - loss: 0.2147 - acc: 0.9306 - val_loss: 0.2395 - val_acc: 0.9243\n",
      "Epoch 10/25\n",
      "57/57 [==============================] - 36s 640ms/step - loss: 0.2149 - acc: 0.9305 - val_loss: 0.2401 - val_acc: 0.9240\n",
      "Epoch 11/25\n",
      "57/57 [==============================] - 36s 635ms/step - loss: 0.2110 - acc: 0.9316 - val_loss: 0.2390 - val_acc: 0.9238\n",
      "Epoch 12/25\n",
      "57/57 [==============================] - 37s 643ms/step - loss: 0.2118 - acc: 0.9318 - val_loss: 0.2390 - val_acc: 0.9240\n",
      "Epoch 13/25\n",
      "57/57 [==============================] - 36s 640ms/step - loss: 0.2147 - acc: 0.9300 - val_loss: 0.2400 - val_acc: 0.9237\n",
      "Epoch 14/25\n",
      "57/57 [==============================] - 36s 639ms/step - loss: 0.2122 - acc: 0.9308 - val_loss: 0.2388 - val_acc: 0.9237\n",
      "Epoch 15/25\n",
      "57/57 [==============================] - 36s 635ms/step - loss: 0.2131 - acc: 0.9301 - val_loss: 0.2382 - val_acc: 0.9237\n",
      "Epoch 16/25\n",
      "57/57 [==============================] - 36s 638ms/step - loss: 0.2083 - acc: 0.9324 - val_loss: 0.2386 - val_acc: 0.9237\n",
      "Epoch 17/25\n",
      "57/57 [==============================] - 36s 638ms/step - loss: 0.2073 - acc: 0.9324 - val_loss: 0.2383 - val_acc: 0.9240\n",
      "Epoch 18/25\n",
      "57/57 [==============================] - 36s 639ms/step - loss: 0.2096 - acc: 0.9318 - val_loss: 0.2383 - val_acc: 0.9238\n",
      "Epoch 19/25\n",
      "57/57 [==============================] - 37s 641ms/step - loss: 0.2115 - acc: 0.9296 - val_loss: 0.2378 - val_acc: 0.9237\n",
      "Epoch 20/25\n",
      "57/57 [==============================] - 36s 637ms/step - loss: 0.2104 - acc: 0.9312 - val_loss: 0.2385 - val_acc: 0.9237\n",
      "Epoch 21/25\n",
      "57/57 [==============================] - 36s 636ms/step - loss: 0.2098 - acc: 0.9304 - val_loss: 0.2369 - val_acc: 0.9237\n",
      "Epoch 22/25\n",
      "57/57 [==============================] - 36s 640ms/step - loss: 0.2140 - acc: 0.9301 - val_loss: 0.2374 - val_acc: 0.9237\n",
      "Epoch 23/25\n",
      "57/57 [==============================] - 36s 640ms/step - loss: 0.2103 - acc: 0.9313 - val_loss: 0.2371 - val_acc: 0.9241\n",
      "Epoch 24/25\n",
      "57/57 [==============================] - 36s 637ms/step - loss: 0.2076 - acc: 0.9308 - val_loss: 0.2372 - val_acc: 0.9241\n",
      "Epoch 25/25\n",
      "57/57 [==============================] - 36s 638ms/step - loss: 0.2049 - acc: 0.9315 - val_loss: 0.2369 - val_acc: 0.9241\n"
     ]
    }
   ],
   "source": [
    "history=model.fit_generator(\n",
    "    train_generator,\n",
    "    steps_per_epoch=train_samples // batch_size,\n",
    "    epochs=epochs,\n",
    "    validation_data=validation_generator,\n",
    "    validation_steps=validation_samples // batch_size)"
   ]
  },
  {
   "cell_type": "markdown",
   "metadata": {
    "colab_type": "text",
    "id": "nZHpypKjwoiA"
   },
   "source": [
    "**Plot**"
   ]
  },
  {
   "cell_type": "code",
   "execution_count": 36,
   "metadata": {
    "colab": {
     "base_uri": "https://localhost:8080/",
     "height": 376
    },
    "colab_type": "code",
    "id": "kp8lGjFRKfTj",
    "outputId": "6f1e0fa0-2e39-43e9-f719-893a3edaf061"
   },
   "outputs": [
    {
     "data": {
      "image/png": "[encoded data removed]",
      "text/plain": [
       "<Figure size 576x396 with 2 Axes>"
      ]
     },
     "metadata": {
      "tags": []
     },
     "output_type": "display_data"
    }
   ],
   "source": [
    "plt.subplot(211)\n",
    "plt.plot(history.history['acc'])\n",
    "plt.plot(history.history['val_acc'])\n",
    "plt.title('model accuracy')\n",
    "plt.ylabel('accuracy')\n",
    "plt.xlabel('epoch')\n",
    "plt.legend(['train', 'test'], loc='upper left')\n",
    "\n",
    "    # summarize history for loss\n",
    "\n",
    "plt.subplot(212)\n",
    "plt.plot(history.history['loss'])\n",
    "plt.plot(history.history['val_loss'])\n",
    "plt.title('model loss')\n",
    "plt.ylabel('loss')\n",
    "plt.xlabel('epoch')\n",
    "plt.legend(['train', 'test'], loc='upper left')\n",
    "plt.show()"
   ]
  },
  {
   "cell_type": "code",
   "execution_count": 37,
   "metadata": {
    "colab": {
     "base_uri": "https://localhost:8080/",
     "height": 816
    },
    "colab_type": "code",
    "id": "rtkbbLPZby4w",
    "outputId": "acd22d5e-d3e5-46ab-a31d-546a79473c9e"
   },
   "outputs": [
    {
     "name": "stdout",
     "output_type": "stream",
     "text": [
      "_________________________________________________________________\n",
      "Layer (type)                 Output Shape              Param #   \n",
      "=================================================================\n",
      "input_2 (InputLayer)         (None, 224, 224, 3)       0         \n",
      "_________________________________________________________________\n",
      "block1_conv1 (Conv2D)        (None, 224, 224, 64)      1792      \n",
      "_________________________________________________________________\n",
      "block1_conv2 (Conv2D)        (None, 224, 224, 64)      36928     \n",
      "_________________________________________________________________\n",
      "block1_pool (MaxPooling2D)   (None, 112, 112, 64)      0         \n",
      "_________________________________________________________________\n",
      "block2_conv1 (Conv2D)        (None, 112, 112, 128)     73856     \n",
      "_________________________________________________________________\n",
      "block2_conv2 (Conv2D)        (None, 112, 112, 128)     147584    \n",
      "_________________________________________________________________\n",
      "block2_pool (MaxPooling2D)   (None, 56, 56, 128)       0         \n",
      "_________________________________________________________________\n",
      "block3_conv1 (Conv2D)        (None, 56, 56, 256)       295168    \n",
      "_________________________________________________________________\n",
      "block3_conv2 (Conv2D)        (None, 56, 56, 256)       590080    \n",
      "_________________________________________________________________\n",
      "block3_conv3 (Conv2D)        (None, 56, 56, 256)       590080    \n",
      "_________________________________________________________________\n",
      "block3_pool (MaxPooling2D)   (None, 28, 28, 256)       0         \n",
      "_________________________________________________________________\n",
      "block4_conv1 (Conv2D)        (None, 28, 28, 512)       1180160   \n",
      "_________________________________________________________________\n",
      "block4_conv2 (Conv2D)        (None, 28, 28, 512)       2359808   \n",
      "_________________________________________________________________\n",
      "block4_conv3 (Conv2D)        (None, 28, 28, 512)       2359808   \n",
      "_________________________________________________________________\n",
      "block4_pool (MaxPooling2D)   (None, 14, 14, 512)       0         \n",
      "_________________________________________________________________\n",
      "block5_conv1 (Conv2D)        (None, 14, 14, 512)       2359808   \n",
      "_________________________________________________________________\n",
      "block5_conv2 (Conv2D)        (None, 14, 14, 512)       2359808   \n",
      "_________________________________________________________________\n",
      "block5_conv3 (Conv2D)        (None, 14, 14, 512)       2359808   \n",
      "_________________________________________________________________\n",
      "block5_pool (MaxPooling2D)   (None, 7, 7, 512)         0         \n",
      "_________________________________________________________________\n",
      "sequential_2 (Sequential)    (None, 13)                6426125   \n",
      "=================================================================\n",
      "Total params: 21,140,813\n",
      "Trainable params: 13,505,549\n",
      "Non-trainable params: 7,635,264\n",
      "_________________________________________________________________\n"
     ]
    }
   ],
   "source": [
    "model.summary()"
   ]
  },
  {
   "cell_type": "markdown",
   "metadata": {
    "colab_type": "text",
    "id": "sZpGuj2Lw_LW"
   },
   "source": [
    "**Obsevations :-**\n",
    "\n",
    "*   Train Accuracy :- 0.9315 , Train Loss :- 0.2049\n",
    "*   Test Accuracy :- 0.9241 , Test Loss :- 0.2369\n",
    "*   Model accuracy improved by approx 0.2% .\n",
    "\n",
    "\n"
   ]
  },
  {
   "cell_type": "code",
   "execution_count": 0,
   "metadata": {
    "colab": {},
    "colab_type": "code",
    "id": "7UrQvot4o_-l"
   },
   "outputs": [],
   "source": [
    "model.save_weights('FinalStaticModel_25epochs_vgg.h5')"
   ]
  },
  {
   "cell_type": "markdown",
   "metadata": {
    "colab_type": "text",
    "id": "D1ULCrR-BMAD"
   },
   "source": [
    "**Predicting the output**"
   ]
  },
  {
   "cell_type": "code",
   "execution_count": 55,
   "metadata": {
    "colab": {
     "base_uri": "https://localhost:8080/",
     "height": 241
    },
    "colab_type": "code",
    "id": "MUewrr2b_fND",
    "outputId": "344a7275-41b0-440f-b41a-7423e80df8b0"
   },
   "outputs": [
    {
     "data": {
      "image/png": "[encoded data removed]",
      "text/plain": [
       "<PIL.Image.Image image mode=RGB size=224x224 at 0x7F1162D21860>"
      ]
     },
     "execution_count": 55,
     "metadata": {
      "tags": []
     },
     "output_type": "execute_result"
    }
   ],
   "source": [
    "img"
   ]
  },
  {
   "cell_type": "code",
   "execution_count": 65,
   "metadata": {
    "colab": {
     "base_uri": "https://localhost:8080/",
     "height": 74
    },
    "colab_type": "code",
    "id": "XMAqhgvB0TlG",
    "outputId": "d131ba33-be65-4191-b421-f3efdb48f931"
   },
   "outputs": [
    {
     "name": "stdout",
     "output_type": "stream",
     "text": [
      "{'34_sleeve': 0.0, 'angel_sleeve': 0.0, 'bell_sleeve': 0.0, 'bishop_sleeve': 0.0098977284506, 'butterfly_sleeve': 0.0, 'cap_sleeve': 0.0, 'cape_sleeve': 0.0, 'cold-shoulder': 0.0, 'kimono_sleeve': 0.0, 'long_sleeve': 0.4173830747604, 'puff_sleeve': 0.5727191567421, 'short_sleeve': 0.0, 'sleeveless': 0.0}\n"
     ]
    }
   ],
   "source": [
    "img = load_img(\"validation/rahul.jpg\", (224,224))\n",
    "x = img_to_array(img)\n",
    "predictions = model.predict(x.reshape((1,) + x.shape))\n",
    "result = dict()\n",
    "i = 0\n",
    "for x in predictions.tolist()[0]:\n",
    "        result[nameOfClasses[i]] = round(x,13)\n",
    "        i+=1\n",
    "print(result)"
   ]
  },
  {
   "cell_type": "markdown",
   "metadata": {
    "colab_type": "text",
    "id": "r-wmmUJsDNk0"
   },
   "source": [
    "**Final Table**"
   ]
  },
  {
   "cell_type": "code",
   "execution_count": 68,
   "metadata": {
    "colab": {
     "base_uri": "https://localhost:8080/",
     "height": 119
    },
    "colab_type": "code",
    "id": "x4RuLz9ADR8Z",
    "outputId": "54ac0243-da65-4cd9-be35-1313e17e0b59"
   },
   "outputs": [
    {
     "name": "stdout",
     "output_type": "stream",
     "text": [
      "+--------------------------------------------------------------+----------------+------------+---------------+-----------+\n",
      "|                           Approach                           | Train Accuracy | Train Loss | Test Accuracy | Test Loss |\n",
      "+--------------------------------------------------------------+----------------+------------+---------------+-----------+\n",
      "| Using the bottleneck features of a pre-trained VGG16 network |     0.9363     |   0.1847   |     0.9217    |   0.2475  |\n",
      "|    Fine-tuning the top layers of a a pre-trained network     |     0.9315     |   0.2049   |     0.9241    |   0.2369  |\n",
      "+--------------------------------------------------------------+----------------+------------+---------------+-----------+\n"
     ]
    }
   ],
   "source": [
    "x = PrettyTable()\n",
    "x.field_names = [\"Approach\", \"Train Accuracy\", \"Train Loss\", \"Test Accuracy\",\"Test Loss\"]\n",
    "x.add_row([\"Using the bottleneck features of a pre-trained VGG16 network\",0.9363,0.1847,0.9217,0.2475])\n",
    "x.add_row([\"Fine-tuning the top layers of a a pre-trained network\",0.9315,0.2049,0.9241,0.2369])\n",
    "print(x)"
   ]
  },
  {
   "cell_type": "markdown",
   "metadata": {
    "colab_type": "text",
    "id": "kHw1M-C6BbUV"
   },
   "source": [
    "**APPROACH**"
   ]
  },
  {
   "cell_type": "markdown",
   "metadata": {
    "colab_type": "text",
    "id": "XAuGTyTlCLzP"
   },
   "source": [
    "**1. Using the bottleneck features of a pre-trained VGG16 network **"
   ]
  },
  {
   "cell_type": "markdown",
   "metadata": {
    "colab_type": "text",
    "id": "eB8NywOuB73N"
   },
   "source": [
    "We will use the VGG16 architecture, pre-trained on the ImageNet dataset --a model previously featured on this blog. Because the ImageNet dataset contains several \"cat\" classes (persian cat, siamese cat...) and many \"dog\" classes among its total of 1000 classes, this model will already have learned features that are relevant to our classification problem. In fact, it is possible that merely recording the softmax predictions of the model over our data rather than the bottleneck features would be enough to solve our dogs vs. cats classification problem extremely well. However, the method we present here is more likely to generalize well to a broader range of problems, including problems featuring classes absent from ImageNet. \n",
    "\n",
    "Our strategy will be as follow: we will only instantiate the convolutional part of the model, everything up to the fully-connected layers. We will then run this model on our training and validation data once, recording the output (the \"bottleneck features\" from th VGG16 model: the last activation maps before the fully-connected layers) in two numpy arrays. Then we will train a small fully-connected model on top of the stored features. \n",
    "\n",
    "The reason why we are storing the features offline rather than adding our fully-connected model directly on top of a frozen convolutional base and running the whole thing, is computational effiency. Running VGG16 is expensive, especially if you're working on CPU, and we want to only do it once. Note that this prevents us from using data augmentation but we have augumented the data ."
   ]
  },
  {
   "cell_type": "markdown",
   "metadata": {
    "colab_type": "text",
    "id": "Mzi-GbqdCUY3"
   },
   "source": [
    "**2. Fine-tuning the top layers of a a pre-trained network**"
   ]
  },
  {
   "cell_type": "markdown",
   "metadata": {
    "colab_type": "text",
    "id": "bjokIlv6B7y7"
   },
   "source": [
    "To further improve our previous result, we can try to \"fine-tune\" the last convolutional block of the VGG16 model alongside the top-level classifier. Fine-tuning consist in starting from a trained network, then re-training it on a new dataset using very small weight updates. In our case, this can be done in 3 steps:\n",
    "\n",
    "1) instantiate the convolutional base of VGG16 and load its weights \n",
    "\n",
    "2) add our previously defined fully-connected model on top, and load its weights \n",
    "\n",
    "3) freeze the layers of the VGG16 model up to the last convolutional block\n",
    "\n",
    "Note that:\n",
    "\n",
    "We choose to only fine-tune the last convolutional block rather than the entire network in order to prevent overfitting, since the entire network would have a very large entropic capacity and thus a strong tendency to overfit. The features learned by low-level convolutional blocks are more general, less abstract than those found higher-up, so it is sensible to keep the first few blocks fixed (more general features) and only fine-tune the last one (more specialized features). Fine-tuning should be done with a very slow learning rate, and typically with the SGD optimizer rather than an adaptative learning rate optimizer such as RMSProp. This is to make sure that the magnitude of the updates stays very small"
   ]
  }
 ],
 "metadata": {
  "accelerator": "GPU",
  "colab": {
   "name": "Image Classification with VGG-16.ipynb",
   "provenance": [],
   "version": "0.3.2"
  },
  "kernelspec": {
   "display_name": "Python 3",
   "language": "python",
   "name": "python3"
  },
  "language_info": {
   "codemirror_mode": {
    "name": "ipython",
    "version": 3
   },
   "file_extension": ".py",
   "mimetype": "text/x-python",
   "name": "python",
   "nbconvert_exporter": "python",
   "pygments_lexer": "ipython3",
   "version": "3.6.5"
  }
 },
 "nbformat": 4,
 "nbformat_minor": 1
}
